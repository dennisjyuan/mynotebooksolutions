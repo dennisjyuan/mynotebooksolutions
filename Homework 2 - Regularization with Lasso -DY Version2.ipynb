{
 "cells": [
  {
   "cell_type": "markdown",
   "metadata": {},
   "source": [
    "# Introduction\n",
    "\n",
    "\n",
    "In this homework, you'll be required to load in a dataset which has about 500 features. By using\n",
    "Lasso ($L^1$) regression, we'll find the optimal constraint on the $L^1$ norm which gives us the best\n",
    "$R^2$. Then we'll plot the results.\n",
    "\n",
    "Recall we minimize the following on ** training data: $(x_i,y_i)$**\n",
    "\n",
    "$$\\min_{\\beta} \\frac{1}{N} \\sum_{i=1}^N (y_i - \\beta \\cdot x_i)^2 + \\lambda \\|\\beta \\|_{L^1}.$$\n",
    "\n",
    "\n",
    "Denoting $\\beta_{\\lambda}$ as the minimum of the above, we then choose $\\lambda$ to maximize $R^2$ on **testing data: $(x_j,y_j)$**\n",
    "\n",
    "$$ \\max_{\\lambda} 1 - \\frac{\\sum_{j} (y_j - \\beta_{\\lambda} \\cdot x_j)^2}{\\sum_j (y_j - \\bar y)^2}$$\n"
   ]
  },
  {
   "cell_type": "markdown",
   "metadata": {},
   "source": [
    "# Lasso Regularization"
   ]
  },
  {
   "cell_type": "markdown",
   "metadata": {},
   "source": [
    "## Problem 1"
   ]
  },
  {
   "cell_type": "markdown",
   "metadata": {},
   "source": [
    "a) Load in hw2data.csv from ../data into a pandas dataframe."
   ]
  },
  {
   "cell_type": "code",
   "execution_count": 5,
   "metadata": {},
   "outputs": [
    {
     "name": "stderr",
     "output_type": "stream",
     "text": [
      "C:\\Users\\Dennis\\Anaconda3\\lib\\site-packages\\statsmodels\\compat\\pandas.py:56: FutureWarning: The pandas.core.datetools module is deprecated and will be removed in a future version. Please use the pandas.tseries module instead.\n",
      "  from pandas.core import datetools\n",
      "C:\\Users\\Dennis\\Anaconda3\\lib\\site-packages\\sklearn\\cross_validation.py:41: DeprecationWarning: This module was deprecated in version 0.18 in favor of the model_selection module into which all the refactored classes and functions are moved. Also note that the interface of the new CV iterators are different from that of this module. This module will be removed in 0.20.\n",
      "  \"This module will be removed in 0.20.\", DeprecationWarning)\n"
     ]
    }
   ],
   "source": [
    "# Necssary libraries\n",
    "\n",
    "import statsmodels.api as sm\n",
    "from sklearn.cross_validation import KFold\n",
    "from sklearn.metrics import confusion_matrix\n",
    "from sklearn.preprocessing import StandardScaler\n",
    "from sklearn.linear_model import LogisticRegression\n",
    "from sklearn.svm import SVC\n",
    "from sklearn.ensemble import RandomForestClassifier as RF\n",
    "from sklearn.neighbors import KNeighborsClassifier as KNN\n",
    "\n",
    "import numpy as np\n",
    "import matplotlib.pyplot as plt\n",
    "from sklearn.metrics import roc_curve, auc\n",
    "from sklearn.utils import shuffle\n",
    "from sklearn.metrics import roc_curve, auc\n",
    "from sklearn import svm\n",
    "from sklearn.linear_model import LinearRegression\n",
    "from sklearn.linear_model import LogisticRegression\n",
    "from sklearn.linear_model import Ridge\n",
    "from sklearn.linear_model import Lasso\n",
    "from sklearn.ensemble import RandomForestClassifier\n",
    "\n",
    "\n",
    "\n",
    "import seaborn\n",
    "import numpy.random as nprnd\n"
   ]
  },
  {
   "cell_type": "code",
   "execution_count": 6,
   "metadata": {},
   "outputs": [
    {
     "data": {
      "text/html": [
       "<div>\n",
       "<style>\n",
       "    .dataframe thead tr:only-child th {\n",
       "        text-align: right;\n",
       "    }\n",
       "\n",
       "    .dataframe thead th {\n",
       "        text-align: left;\n",
       "    }\n",
       "\n",
       "    .dataframe tbody tr th {\n",
       "        vertical-align: top;\n",
       "    }\n",
       "</style>\n",
       "<table border=\"1\" class=\"dataframe\">\n",
       "  <thead>\n",
       "    <tr style=\"text-align: right;\">\n",
       "      <th></th>\n",
       "      <th>0</th>\n",
       "      <th>1</th>\n",
       "      <th>2</th>\n",
       "      <th>3</th>\n",
       "      <th>4</th>\n",
       "      <th>5</th>\n",
       "      <th>6</th>\n",
       "      <th>7</th>\n",
       "      <th>8</th>\n",
       "      <th>9</th>\n",
       "      <th>...</th>\n",
       "      <th>491</th>\n",
       "      <th>492</th>\n",
       "      <th>493</th>\n",
       "      <th>494</th>\n",
       "      <th>495</th>\n",
       "      <th>496</th>\n",
       "      <th>497</th>\n",
       "      <th>498</th>\n",
       "      <th>499</th>\n",
       "      <th>y</th>\n",
       "    </tr>\n",
       "  </thead>\n",
       "  <tbody>\n",
       "    <tr>\n",
       "      <th>0</th>\n",
       "      <td>0.382732</td>\n",
       "      <td>-0.034242</td>\n",
       "      <td>1.096347</td>\n",
       "      <td>-0.234216</td>\n",
       "      <td>-0.347451</td>\n",
       "      <td>-0.581268</td>\n",
       "      <td>-1.632635</td>\n",
       "      <td>-1.567768</td>\n",
       "      <td>-1.179158</td>\n",
       "      <td>1.301428</td>\n",
       "      <td>...</td>\n",
       "      <td>0.178793</td>\n",
       "      <td>-0.799422</td>\n",
       "      <td>0.240788</td>\n",
       "      <td>0.289121</td>\n",
       "      <td>0.412871</td>\n",
       "      <td>-0.198399</td>\n",
       "      <td>0.094192</td>\n",
       "      <td>-1.147611</td>\n",
       "      <td>-0.358114</td>\n",
       "      <td>-2.663126</td>\n",
       "    </tr>\n",
       "    <tr>\n",
       "      <th>1</th>\n",
       "      <td>0.555963</td>\n",
       "      <td>0.892474</td>\n",
       "      <td>-0.422315</td>\n",
       "      <td>0.104714</td>\n",
       "      <td>0.228053</td>\n",
       "      <td>0.201480</td>\n",
       "      <td>0.540774</td>\n",
       "      <td>-1.818078</td>\n",
       "      <td>-0.049324</td>\n",
       "      <td>0.239034</td>\n",
       "      <td>...</td>\n",
       "      <td>-0.740137</td>\n",
       "      <td>-0.565498</td>\n",
       "      <td>0.476031</td>\n",
       "      <td>-2.158069</td>\n",
       "      <td>1.318551</td>\n",
       "      <td>-0.239297</td>\n",
       "      <td>-0.246794</td>\n",
       "      <td>-1.079343</td>\n",
       "      <td>-0.114226</td>\n",
       "      <td>10.399650</td>\n",
       "    </tr>\n",
       "    <tr>\n",
       "      <th>2</th>\n",
       "      <td>0.013240</td>\n",
       "      <td>-0.121945</td>\n",
       "      <td>0.339059</td>\n",
       "      <td>-0.589632</td>\n",
       "      <td>-0.895816</td>\n",
       "      <td>0.548328</td>\n",
       "      <td>0.098667</td>\n",
       "      <td>0.197181</td>\n",
       "      <td>1.059027</td>\n",
       "      <td>-1.022564</td>\n",
       "      <td>...</td>\n",
       "      <td>-0.739936</td>\n",
       "      <td>1.315138</td>\n",
       "      <td>-0.323457</td>\n",
       "      <td>0.197828</td>\n",
       "      <td>0.097751</td>\n",
       "      <td>1.401523</td>\n",
       "      <td>0.158434</td>\n",
       "      <td>-1.141901</td>\n",
       "      <td>-1.310970</td>\n",
       "      <td>-21.762801</td>\n",
       "    </tr>\n",
       "    <tr>\n",
       "      <th>3</th>\n",
       "      <td>-1.532921</td>\n",
       "      <td>-1.711970</td>\n",
       "      <td>0.046135</td>\n",
       "      <td>-0.958374</td>\n",
       "      <td>-0.080812</td>\n",
       "      <td>-0.703859</td>\n",
       "      <td>-0.770784</td>\n",
       "      <td>-0.480845</td>\n",
       "      <td>0.703586</td>\n",
       "      <td>0.929145</td>\n",
       "      <td>...</td>\n",
       "      <td>0.473488</td>\n",
       "      <td>1.855246</td>\n",
       "      <td>1.415656</td>\n",
       "      <td>-0.302746</td>\n",
       "      <td>0.989679</td>\n",
       "      <td>0.585851</td>\n",
       "      <td>1.136388</td>\n",
       "      <td>0.671617</td>\n",
       "      <td>-0.974167</td>\n",
       "      <td>2.139453</td>\n",
       "    </tr>\n",
       "    <tr>\n",
       "      <th>4</th>\n",
       "      <td>-1.619685</td>\n",
       "      <td>0.572627</td>\n",
       "      <td>1.902618</td>\n",
       "      <td>-0.775664</td>\n",
       "      <td>-0.188090</td>\n",
       "      <td>-1.035748</td>\n",
       "      <td>1.177830</td>\n",
       "      <td>-2.305167</td>\n",
       "      <td>-2.263660</td>\n",
       "      <td>0.375020</td>\n",
       "      <td>...</td>\n",
       "      <td>-1.303220</td>\n",
       "      <td>0.466751</td>\n",
       "      <td>0.161106</td>\n",
       "      <td>0.320032</td>\n",
       "      <td>2.079177</td>\n",
       "      <td>-0.907466</td>\n",
       "      <td>-0.192404</td>\n",
       "      <td>-1.212516</td>\n",
       "      <td>-0.080599</td>\n",
       "      <td>0.194017</td>\n",
       "    </tr>\n",
       "  </tbody>\n",
       "</table>\n",
       "<p>5 rows × 501 columns</p>\n",
       "</div>"
      ],
      "text/plain": [
       "          0         1         2         3         4         5         6  \\\n",
       "0  0.382732 -0.034242  1.096347 -0.234216 -0.347451 -0.581268 -1.632635   \n",
       "1  0.555963  0.892474 -0.422315  0.104714  0.228053  0.201480  0.540774   \n",
       "2  0.013240 -0.121945  0.339059 -0.589632 -0.895816  0.548328  0.098667   \n",
       "3 -1.532921 -1.711970  0.046135 -0.958374 -0.080812 -0.703859 -0.770784   \n",
       "4 -1.619685  0.572627  1.902618 -0.775664 -0.188090 -1.035748  1.177830   \n",
       "\n",
       "          7         8         9    ...           491       492       493  \\\n",
       "0 -1.567768 -1.179158  1.301428    ...      0.178793 -0.799422  0.240788   \n",
       "1 -1.818078 -0.049324  0.239034    ...     -0.740137 -0.565498  0.476031   \n",
       "2  0.197181  1.059027 -1.022564    ...     -0.739936  1.315138 -0.323457   \n",
       "3 -0.480845  0.703586  0.929145    ...      0.473488  1.855246  1.415656   \n",
       "4 -2.305167 -2.263660  0.375020    ...     -1.303220  0.466751  0.161106   \n",
       "\n",
       "        494       495       496       497       498       499          y  \n",
       "0  0.289121  0.412871 -0.198399  0.094192 -1.147611 -0.358114  -2.663126  \n",
       "1 -2.158069  1.318551 -0.239297 -0.246794 -1.079343 -0.114226  10.399650  \n",
       "2  0.197828  0.097751  1.401523  0.158434 -1.141901 -1.310970 -21.762801  \n",
       "3 -0.302746  0.989679  0.585851  1.136388  0.671617 -0.974167   2.139453  \n",
       "4  0.320032  2.079177 -0.907466 -0.192404 -1.212516 -0.080599   0.194017  \n",
       "\n",
       "[5 rows x 501 columns]"
      ]
     },
     "execution_count": 6,
     "metadata": {},
     "output_type": "execute_result"
    }
   ],
   "source": [
    "import pandas as pd\n",
    "\n",
    "df = pd.read_csv('../data/hw2data.csv')\n",
    "df.head()"
   ]
  },
  {
   "cell_type": "markdown",
   "metadata": {},
   "source": [
    "b) Set y to be the y variable in the dataframe from a and X to be the remaining features."
   ]
  },
  {
   "cell_type": "code",
   "execution_count": 7,
   "metadata": {},
   "outputs": [
    {
     "data": {
      "text/plain": [
       "0    -2.663126\n",
       "1    10.399650\n",
       "2   -21.762801\n",
       "3     2.139453\n",
       "4     0.194017\n",
       "Name: y, dtype: float64"
      ]
     },
     "execution_count": 7,
     "metadata": {},
     "output_type": "execute_result"
    }
   ],
   "source": [
    "y = df['y']\n",
    "y.head()"
   ]
  },
  {
   "cell_type": "code",
   "execution_count": 8,
   "metadata": {},
   "outputs": [
    {
     "data": {
      "text/html": [
       "<div>\n",
       "<style>\n",
       "    .dataframe thead tr:only-child th {\n",
       "        text-align: right;\n",
       "    }\n",
       "\n",
       "    .dataframe thead th {\n",
       "        text-align: left;\n",
       "    }\n",
       "\n",
       "    .dataframe tbody tr th {\n",
       "        vertical-align: top;\n",
       "    }\n",
       "</style>\n",
       "<table border=\"1\" class=\"dataframe\">\n",
       "  <thead>\n",
       "    <tr style=\"text-align: right;\">\n",
       "      <th></th>\n",
       "      <th>0</th>\n",
       "      <th>1</th>\n",
       "      <th>2</th>\n",
       "      <th>3</th>\n",
       "      <th>4</th>\n",
       "      <th>5</th>\n",
       "      <th>6</th>\n",
       "      <th>7</th>\n",
       "      <th>8</th>\n",
       "      <th>9</th>\n",
       "      <th>...</th>\n",
       "      <th>490</th>\n",
       "      <th>491</th>\n",
       "      <th>492</th>\n",
       "      <th>493</th>\n",
       "      <th>494</th>\n",
       "      <th>495</th>\n",
       "      <th>496</th>\n",
       "      <th>497</th>\n",
       "      <th>498</th>\n",
       "      <th>499</th>\n",
       "    </tr>\n",
       "  </thead>\n",
       "  <tbody>\n",
       "    <tr>\n",
       "      <th>0</th>\n",
       "      <td>0.382732</td>\n",
       "      <td>-0.034242</td>\n",
       "      <td>1.096347</td>\n",
       "      <td>-0.234216</td>\n",
       "      <td>-0.347451</td>\n",
       "      <td>-0.581268</td>\n",
       "      <td>-1.632635</td>\n",
       "      <td>-1.567768</td>\n",
       "      <td>-1.179158</td>\n",
       "      <td>1.301428</td>\n",
       "      <td>...</td>\n",
       "      <td>0.441033</td>\n",
       "      <td>0.178793</td>\n",
       "      <td>-0.799422</td>\n",
       "      <td>0.240788</td>\n",
       "      <td>0.289121</td>\n",
       "      <td>0.412871</td>\n",
       "      <td>-0.198399</td>\n",
       "      <td>0.094192</td>\n",
       "      <td>-1.147611</td>\n",
       "      <td>-0.358114</td>\n",
       "    </tr>\n",
       "    <tr>\n",
       "      <th>1</th>\n",
       "      <td>0.555963</td>\n",
       "      <td>0.892474</td>\n",
       "      <td>-0.422315</td>\n",
       "      <td>0.104714</td>\n",
       "      <td>0.228053</td>\n",
       "      <td>0.201480</td>\n",
       "      <td>0.540774</td>\n",
       "      <td>-1.818078</td>\n",
       "      <td>-0.049324</td>\n",
       "      <td>0.239034</td>\n",
       "      <td>...</td>\n",
       "      <td>-0.998849</td>\n",
       "      <td>-0.740137</td>\n",
       "      <td>-0.565498</td>\n",
       "      <td>0.476031</td>\n",
       "      <td>-2.158069</td>\n",
       "      <td>1.318551</td>\n",
       "      <td>-0.239297</td>\n",
       "      <td>-0.246794</td>\n",
       "      <td>-1.079343</td>\n",
       "      <td>-0.114226</td>\n",
       "    </tr>\n",
       "    <tr>\n",
       "      <th>2</th>\n",
       "      <td>0.013240</td>\n",
       "      <td>-0.121945</td>\n",
       "      <td>0.339059</td>\n",
       "      <td>-0.589632</td>\n",
       "      <td>-0.895816</td>\n",
       "      <td>0.548328</td>\n",
       "      <td>0.098667</td>\n",
       "      <td>0.197181</td>\n",
       "      <td>1.059027</td>\n",
       "      <td>-1.022564</td>\n",
       "      <td>...</td>\n",
       "      <td>1.342622</td>\n",
       "      <td>-0.739936</td>\n",
       "      <td>1.315138</td>\n",
       "      <td>-0.323457</td>\n",
       "      <td>0.197828</td>\n",
       "      <td>0.097751</td>\n",
       "      <td>1.401523</td>\n",
       "      <td>0.158434</td>\n",
       "      <td>-1.141901</td>\n",
       "      <td>-1.310970</td>\n",
       "    </tr>\n",
       "    <tr>\n",
       "      <th>3</th>\n",
       "      <td>-1.532921</td>\n",
       "      <td>-1.711970</td>\n",
       "      <td>0.046135</td>\n",
       "      <td>-0.958374</td>\n",
       "      <td>-0.080812</td>\n",
       "      <td>-0.703859</td>\n",
       "      <td>-0.770784</td>\n",
       "      <td>-0.480845</td>\n",
       "      <td>0.703586</td>\n",
       "      <td>0.929145</td>\n",
       "      <td>...</td>\n",
       "      <td>0.140811</td>\n",
       "      <td>0.473488</td>\n",
       "      <td>1.855246</td>\n",
       "      <td>1.415656</td>\n",
       "      <td>-0.302746</td>\n",
       "      <td>0.989679</td>\n",
       "      <td>0.585851</td>\n",
       "      <td>1.136388</td>\n",
       "      <td>0.671617</td>\n",
       "      <td>-0.974167</td>\n",
       "    </tr>\n",
       "    <tr>\n",
       "      <th>4</th>\n",
       "      <td>-1.619685</td>\n",
       "      <td>0.572627</td>\n",
       "      <td>1.902618</td>\n",
       "      <td>-0.775664</td>\n",
       "      <td>-0.188090</td>\n",
       "      <td>-1.035748</td>\n",
       "      <td>1.177830</td>\n",
       "      <td>-2.305167</td>\n",
       "      <td>-2.263660</td>\n",
       "      <td>0.375020</td>\n",
       "      <td>...</td>\n",
       "      <td>-0.340560</td>\n",
       "      <td>-1.303220</td>\n",
       "      <td>0.466751</td>\n",
       "      <td>0.161106</td>\n",
       "      <td>0.320032</td>\n",
       "      <td>2.079177</td>\n",
       "      <td>-0.907466</td>\n",
       "      <td>-0.192404</td>\n",
       "      <td>-1.212516</td>\n",
       "      <td>-0.080599</td>\n",
       "    </tr>\n",
       "  </tbody>\n",
       "</table>\n",
       "<p>5 rows × 500 columns</p>\n",
       "</div>"
      ],
      "text/plain": [
       "          0         1         2         3         4         5         6  \\\n",
       "0  0.382732 -0.034242  1.096347 -0.234216 -0.347451 -0.581268 -1.632635   \n",
       "1  0.555963  0.892474 -0.422315  0.104714  0.228053  0.201480  0.540774   \n",
       "2  0.013240 -0.121945  0.339059 -0.589632 -0.895816  0.548328  0.098667   \n",
       "3 -1.532921 -1.711970  0.046135 -0.958374 -0.080812 -0.703859 -0.770784   \n",
       "4 -1.619685  0.572627  1.902618 -0.775664 -0.188090 -1.035748  1.177830   \n",
       "\n",
       "          7         8         9    ...          490       491       492  \\\n",
       "0 -1.567768 -1.179158  1.301428    ...     0.441033  0.178793 -0.799422   \n",
       "1 -1.818078 -0.049324  0.239034    ...    -0.998849 -0.740137 -0.565498   \n",
       "2  0.197181  1.059027 -1.022564    ...     1.342622 -0.739936  1.315138   \n",
       "3 -0.480845  0.703586  0.929145    ...     0.140811  0.473488  1.855246   \n",
       "4 -2.305167 -2.263660  0.375020    ...    -0.340560 -1.303220  0.466751   \n",
       "\n",
       "        493       494       495       496       497       498       499  \n",
       "0  0.240788  0.289121  0.412871 -0.198399  0.094192 -1.147611 -0.358114  \n",
       "1  0.476031 -2.158069  1.318551 -0.239297 -0.246794 -1.079343 -0.114226  \n",
       "2 -0.323457  0.197828  0.097751  1.401523  0.158434 -1.141901 -1.310970  \n",
       "3  1.415656 -0.302746  0.989679  0.585851  1.136388  0.671617 -0.974167  \n",
       "4  0.161106  0.320032  2.079177 -0.907466 -0.192404 -1.212516 -0.080599  \n",
       "\n",
       "[5 rows x 500 columns]"
      ]
     },
     "execution_count": 8,
     "metadata": {},
     "output_type": "execute_result"
    }
   ],
   "source": [
    "X = df.drop(['y'], axis = 1)\n",
    "X.head()\n"
   ]
  },
  {
   "cell_type": "code",
   "execution_count": 9,
   "metadata": {},
   "outputs": [
    {
     "data": {
      "text/plain": [
       "array([ 1.,  1.,  1.,  1.,  1.,  1.,  1.,  1.,  1.,  1.,  1.,  1.,  1.,\n",
       "        1.,  1.,  1.,  1.,  1.,  1.,  1.,  1.,  1.,  1.,  1.,  1.,  1.,\n",
       "        1.,  1.,  1.,  1.,  1.,  1.,  1.,  1.,  1.,  1.,  1.,  1.,  1.,\n",
       "        1.,  1.,  1.,  1.,  1.,  1.,  1.,  1.,  1.,  1.,  1.,  1.,  1.,\n",
       "        1.,  1.,  1.,  1.,  1.,  1.,  1.,  1.,  1.,  1.,  1.,  1.,  1.,\n",
       "        1.,  1.,  1.,  1.,  1.,  1.,  1.,  1.,  1.,  1.,  1.,  1.,  1.,\n",
       "        1.,  1.,  1.,  1.,  1.,  1.,  1.,  1.,  1.,  1.,  1.,  1.,  1.,\n",
       "        1.,  1.,  1.,  1.,  1.,  1.,  1.,  1.,  1.,  1.,  1.,  1.,  1.,\n",
       "        1.,  1.,  1.,  1.,  1.,  1.,  1.,  1.,  1.,  1.,  1.,  1.,  1.,\n",
       "        1.,  1.,  1.,  1.,  1.,  1.,  1.,  1.,  1.,  1.,  1.,  1.,  1.,\n",
       "        1.,  1.,  1.,  1.,  1.,  1.,  1.,  1.,  1.,  1.,  1.,  1.,  1.,\n",
       "        1.,  1.,  1.,  1.,  1.,  1.,  1.,  1.,  1.,  1.,  1.,  1.,  1.,\n",
       "        1.,  1.,  1.,  1.,  1.,  1.,  1.,  1.,  1.,  1.,  1.,  1.,  1.,\n",
       "        1.,  1.,  1.,  1.,  1.,  1.,  1.,  1.,  1.,  1.,  1.,  1.,  1.,\n",
       "        1.,  1.,  1.,  1.,  1.,  1.,  1.,  1.,  1.,  1.,  1.,  1.,  1.,\n",
       "        1.,  1.,  1.,  1.,  1.,  1.,  1.,  1.,  1.,  1.,  1.,  1.,  1.,\n",
       "        1.,  1.,  1.,  1.,  1.,  1.,  1.,  1.,  1.,  1.,  1.,  1.,  1.,\n",
       "        1.,  1.,  1.,  1.,  1.,  1.,  1.,  1.,  1.,  1.,  1.,  1.,  1.,\n",
       "        1.,  1.,  1.,  1.,  1.,  1.,  1.,  1.,  1.,  1.,  1.,  1.,  1.,\n",
       "        1.,  1.,  1.,  1.,  1.,  1.,  1.,  1.,  1.,  1.,  1.,  1.,  1.,\n",
       "        1.,  1.,  1.,  1.,  1.,  1.,  1.,  1.,  1.,  1.,  1.,  1.,  1.,\n",
       "        1.,  1.,  1.,  1.,  1.,  1.,  1.,  1.,  1.,  1.,  1.,  1.,  1.,\n",
       "        1.,  1.,  1.,  1.,  1.,  1.,  1.,  1.,  1.,  1.,  1.,  1.,  1.,\n",
       "        1.,  1.,  1.,  1.,  1.,  1.,  1.,  1.,  1.,  1.,  1.,  1.,  1.,\n",
       "        1.,  1.,  1.,  1.,  1.,  1.,  1.,  1.,  1.,  1.,  1.,  1.,  1.,\n",
       "        1.,  1.,  1.,  1.,  1.,  1.,  1.,  1.,  1.,  1.,  1.,  1.,  1.,\n",
       "        1.,  1.,  1.,  1.,  1.,  1.,  1.,  1.,  1.,  1.,  1.,  1.,  1.,\n",
       "        1.,  1.,  1.,  1.,  1.,  1.,  1.,  1.,  1.,  1.,  1.,  1.,  1.,\n",
       "        1.,  1.,  1.,  1.,  1.,  1.,  1.,  1.,  1.,  1.,  1.,  1.,  1.,\n",
       "        1.,  1.,  1.,  1.,  1.,  1.,  1.,  1.,  1.,  1.,  1.,  1.,  1.,\n",
       "        1.,  1.,  1.,  1.,  1.,  1.,  1.,  1.,  1.,  1.,  1.,  1.,  1.,\n",
       "        1.,  1.,  1.,  1.,  1.,  1.,  1.,  1.,  1.,  1.,  1.,  1.,  1.,\n",
       "        1.,  1.,  1.,  1.,  1.,  1.,  1.,  1.,  1.,  1.,  1.,  1.,  1.,\n",
       "        1.,  1.,  1.,  1.,  1.,  1.,  1.,  1.,  1.,  1.,  1.,  1.,  1.,\n",
       "        1.,  1.,  1.,  1.,  1.,  1.,  1.,  1.,  1.,  1.,  1.,  1.,  1.,\n",
       "        1.,  1.,  1.,  1.,  1.,  1.,  1.,  1.,  1.,  1.,  1.,  1.,  1.,\n",
       "        1.,  1.,  1.,  1.,  1.,  1.,  1.,  1.,  1.,  1.,  1.,  1.,  1.,\n",
       "        1.,  1.,  1.,  1.,  1.,  1.,  1.,  1.,  1.,  1.,  1.,  1.,  1.,\n",
       "        1.,  1.,  1.,  1.,  1.,  1.])"
      ]
     },
     "execution_count": 9,
     "metadata": {},
     "output_type": "execute_result"
    }
   ],
   "source": [
    "from sklearn import preprocessing\n",
    "\n",
    "X_scaled = preprocessing.scale(X)\n",
    "X_scaled.std(axis=0)\n",
    "\n",
    "#to revert to DF\n",
    "#X_scaled_df = pd.DataFrame(data = X_scaled)\n",
    "#X_scaled_df.head()"
   ]
  },
  {
   "cell_type": "markdown",
   "metadata": {},
   "source": [
    "c) As shown in the Booking.com example, using Lasso regression, find the regularization strength\n",
    "which optimizes the $R^2$. \n",
    "\n",
    "**Hint:** Take a range of alpha from `np.logspace(-8,-3,1000)`"
   ]
  },
  {
   "cell_type": "code",
   "execution_count": null,
   "metadata": {
    "collapsed": true
   },
   "outputs": [],
   "source": []
  },
  {
   "cell_type": "code",
   "execution_count": 10,
   "metadata": {},
   "outputs": [
    {
     "data": {
      "text/plain": [
       "array([[-0.92447701, -1.60025531,  0.26510653, ..., -0.41276942,\n",
       "         1.42352557,  0.6098407 ],\n",
       "       [-0.57181074,  0.88245045,  1.35665483, ...,  0.96931614,\n",
       "         0.8991626 , -0.28041043],\n",
       "       [ 0.65242371,  0.45863804, -0.85481664, ...,  0.5896053 ,\n",
       "         1.58698354,  0.71969205],\n",
       "       ..., \n",
       "       [ 0.97630109,  1.13176941,  0.7486288 , ...,  1.36446736,\n",
       "         0.12034312, -0.21247118],\n",
       "       [-0.31913194, -0.39786656, -0.03266286, ...,  1.22685849,\n",
       "        -0.43768538, -1.56152618],\n",
       "       [ 1.60091073, -1.6833597 , -1.02243448, ..., -1.50002895,\n",
       "         0.86829501,  0.19983565]])"
      ]
     },
     "execution_count": 10,
     "metadata": {},
     "output_type": "execute_result"
    }
   ],
   "source": [
    "import numpy as np\n",
    "from sklearn.model_selection import train_test_split\n",
    "\n",
    "#random splitting\n",
    "\n",
    "(X_train, X_test, y_train, y_test) = train_test_split (X_scaled, y, test_size=0.2)\n",
    "\n",
    "X_train"
   ]
  },
  {
   "cell_type": "code",
   "execution_count": 11,
   "metadata": {},
   "outputs": [
    {
     "name": "stdout",
     "output_type": "stream",
     "text": [
      "Coefficients: \n",
      " [  1.94065227e+00   9.85366540e-01   5.60632270e-01   2.37773677e+00\n",
      "   2.39325508e+00  -9.72894861e-01   9.97365971e-01  -2.93805536e-01\n",
      "  -2.84103449e-01   3.69209747e-01   3.29072381e-01   1.40779364e+00\n",
      "   6.02644000e-01   2.29245866e-01   4.27598877e-01   1.89258225e-01\n",
      "   9.61305379e-01  -2.80872267e-01   7.40403743e-03  -1.46977909e+00\n",
      "  -2.99469303e+00   6.58362034e-01   7.64349262e-01  -6.38260306e-01\n",
      "   1.93193975e+00  -7.15625253e-01   2.41799835e-02  -3.50470336e-01\n",
      "   1.12121280e+00   1.19790801e+00   3.98410032e-01  -4.11875034e-02\n",
      "  -5.55988086e-01  -1.64371875e+00  -0.00000000e+00   2.00935985e-01\n",
      "   2.08211530e-01   1.36797136e+00  -5.39797189e-01  -5.08646359e-01\n",
      "  -1.45941507e+00  -1.36178657e+00  -1.38688580e+00   1.91272987e+00\n",
      "  -3.08477370e-01  -2.85084594e-01  -7.27326499e-01   6.43758205e-01\n",
      "  -1.53941305e+00  -1.47712992e-01   6.24865480e-02  -2.33448750e-02\n",
      "  -2.12574948e-01  -1.70850482e-01   1.48149788e-01  -0.00000000e+00\n",
      "  -0.00000000e+00   1.16290062e-01   1.31555292e-03   0.00000000e+00\n",
      "   1.76268746e-02   4.64895338e-02  -1.08678779e-01   8.10562670e-02\n",
      "  -0.00000000e+00  -4.44808997e-01  -4.35822017e-03   1.13105151e-01\n",
      "   2.30952551e-01   6.56193217e-02   1.21082084e-01  -1.13675060e-02\n",
      "   0.00000000e+00  -1.04485068e-01   1.26506036e-02  -4.64464758e-02\n",
      "  -0.00000000e+00  -5.05830250e-03  -2.22758184e-02   1.05295390e-01\n",
      "   4.91577564e-02  -1.08965825e-01   0.00000000e+00  -2.68440978e-02\n",
      "  -2.22182325e-02  -0.00000000e+00   8.77766196e-02  -9.61905883e-02\n",
      "   9.86318036e-03   1.77683920e-02  -2.41523521e-01  -6.80969459e-04\n",
      "  -3.19204848e-02  -6.09913071e-02   5.29003518e-03  -1.55295871e-01\n",
      "   2.03413599e-02   1.29587309e-02   3.34401191e-02   1.73954814e-01\n",
      "   3.07443404e-02  -5.44215244e-02  -1.09636780e-01   2.69253411e-02\n",
      "  -5.83273144e-02  -1.03706014e-01   8.44176991e-03   2.34419023e-01\n",
      "  -4.38920857e-02   5.95252904e-02  -1.28356780e-01  -2.19494963e-02\n",
      "   0.00000000e+00   9.23591939e-02  -8.07986591e-02  -0.00000000e+00\n",
      "   4.67974453e-02  -7.23103288e-02  -4.27001054e-02  -2.44459656e-04\n",
      "   0.00000000e+00   1.07062950e-01  -1.70730292e-02   1.32005080e-01\n",
      "  -0.00000000e+00  -2.78489959e-02  -1.09688616e-01  -3.47487755e-01\n",
      "   0.00000000e+00   6.78915014e-02  -2.82132334e-03  -6.36286758e-02\n",
      "  -1.56558540e-01  -6.06647292e-02   0.00000000e+00   4.07786169e-02\n",
      "  -4.40649510e-02  -1.90525261e-01   1.63208407e-02   0.00000000e+00\n",
      "   0.00000000e+00   0.00000000e+00   0.00000000e+00  -2.53418015e-01\n",
      "  -0.00000000e+00   3.00364737e-01   4.22155525e-02   2.39531875e-01\n",
      "  -0.00000000e+00   2.57374099e-01  -2.19859254e-02  -1.47209088e-01\n",
      "  -1.85820584e-01  -2.66945676e-02  -0.00000000e+00   6.68050622e-02\n",
      "  -9.91460811e-02   5.85551985e-02   1.18227707e-01  -7.90636049e-02\n",
      "   1.01644507e-01   5.46241880e-02   8.76794180e-03   0.00000000e+00\n",
      "   1.18294619e-03   2.01761636e-02   0.00000000e+00  -1.17403929e-01\n",
      "   1.40274207e-01   5.95660324e-03   2.68844474e-02  -0.00000000e+00\n",
      "   5.12594392e-03  -1.22697280e-01   0.00000000e+00  -4.34637120e-02\n",
      "  -6.80039032e-03   0.00000000e+00   1.72268180e-02  -1.16866534e-01\n",
      "   9.40368812e-02   1.44294728e-01   1.70249616e-02  -9.26090843e-02\n",
      "  -4.75802142e-02   1.30495592e-02   0.00000000e+00   4.85216773e-02\n",
      "   1.15872896e-01   0.00000000e+00  -5.62243718e-02  -2.89188507e-02\n",
      "   0.00000000e+00  -4.47337897e-02   4.21852621e-03  -0.00000000e+00\n",
      "  -4.71312356e-02  -8.25156362e-02   1.26169480e-01  -9.14743160e-02\n",
      "   3.82040267e-02  -7.34596948e-02   4.75284205e-02   4.80517951e-02\n",
      "   3.62307751e-02   8.85865294e-02   0.00000000e+00   7.76538423e-02\n",
      "   0.00000000e+00  -0.00000000e+00   0.00000000e+00   1.00886626e-03\n",
      "  -1.18883847e-01  -2.45874129e-02   8.44177805e-02   0.00000000e+00\n",
      "   2.95304117e-02   1.91921173e-02  -0.00000000e+00   1.40518708e-01\n",
      "   1.28940109e-01  -1.21033410e-01   4.25666138e-02   4.34237032e-02\n",
      "   1.66652322e-01   6.24625299e-02  -5.31158632e-02  -2.07086418e-01\n",
      "   0.00000000e+00  -0.00000000e+00   1.04495740e-02   0.00000000e+00\n",
      "   2.43814332e-02   4.02031726e-03  -1.15956434e-02  -1.07544195e-01\n",
      "  -2.04647457e-02   1.65434592e-01   3.39319687e-02   4.99269139e-02\n",
      "   3.55099715e-02   1.06568449e-01  -4.27011247e-04   1.83747291e-01\n",
      "   1.99464639e-02  -2.44985997e-02   8.86682240e-02   1.67234301e-01\n",
      "   6.35368094e-03   9.33153380e-02   5.38175379e-03   4.50799971e-03\n",
      "  -0.00000000e+00   1.07055395e-02   3.28412940e-04  -8.32127747e-02\n",
      "   1.77495192e-02   0.00000000e+00  -0.00000000e+00  -2.51416831e-02\n",
      "  -0.00000000e+00   0.00000000e+00  -4.13069705e-02  -1.31093252e-01\n",
      "   0.00000000e+00  -8.82912930e-02   8.76654417e-02   0.00000000e+00\n",
      "  -9.19300347e-04   1.45499955e-01   1.13709292e-01   1.69935069e-01\n",
      "   0.00000000e+00   1.72753003e-03  -1.81383651e-02  -3.41392904e-02\n",
      "   0.00000000e+00  -6.13153914e-03  -1.85872702e-02   1.39012875e-01\n",
      "  -1.09588686e-02  -0.00000000e+00   4.90246449e-02  -6.10257617e-03\n",
      "   1.24652665e-01  -7.55847372e-02  -1.42406377e-01  -1.78245042e-01\n",
      "   7.57013803e-04  -1.96207096e-02  -0.00000000e+00   8.10292504e-02\n",
      "   1.79052600e-02  -0.00000000e+00  -2.57592877e-04   4.03253265e-02\n",
      "   2.19956529e-02  -0.00000000e+00  -0.00000000e+00  -1.33462101e-01\n",
      "  -2.90020157e-02  -2.07747241e-03  -3.53663960e-03   5.16379152e-03\n",
      "  -1.58638404e-02   0.00000000e+00   1.02104732e-01  -0.00000000e+00\n",
      "   4.35398155e-02  -0.00000000e+00  -8.13075908e-02  -9.19426394e-02\n",
      "   1.23663264e-03  -1.26454588e-03  -0.00000000e+00  -0.00000000e+00\n",
      "  -8.50252823e-02   1.63309990e-03   1.33238890e-02  -7.83039707e-02\n",
      "   1.13844933e-01  -0.00000000e+00   0.00000000e+00  -0.00000000e+00\n",
      "  -0.00000000e+00   0.00000000e+00  -0.00000000e+00   2.67711025e-02\n",
      "  -1.07594001e-02   0.00000000e+00  -0.00000000e+00  -3.01627657e-03\n",
      "  -0.00000000e+00   1.54754052e-02  -4.34428630e-02   1.38030155e-02\n",
      "  -0.00000000e+00   2.60523342e-02  -1.74447444e-02   4.67794414e-02\n",
      "   2.48865756e-02  -1.30646021e-01   0.00000000e+00   0.00000000e+00\n",
      "   0.00000000e+00  -4.60906335e-02   5.97521919e-02  -3.28007756e-02\n",
      "  -0.00000000e+00  -6.17967536e-02  -2.21949471e-02   9.05599935e-02\n",
      "  -1.35585448e-03  -1.83667710e-04  -0.00000000e+00   1.31762823e-03\n",
      "   1.29322494e-02   1.20070061e-03  -0.00000000e+00   6.25652716e-03\n",
      "  -0.00000000e+00   0.00000000e+00   0.00000000e+00  -7.36329670e-02\n",
      "   1.54297078e-01  -0.00000000e+00  -2.36863421e-03  -0.00000000e+00\n",
      "   2.07487799e-02   1.07373074e-01  -7.96934762e-03  -2.28772393e-02\n",
      "  -7.51433410e-02  -6.10115870e-02   0.00000000e+00   2.57591620e-02\n",
      "  -3.13021293e-02   0.00000000e+00   8.58918204e-02  -5.58960705e-02\n",
      "  -4.32677593e-02  -1.04606027e-01  -8.24121201e-02   8.62559147e-02\n",
      "   1.63834591e-02   1.27220886e-02  -0.00000000e+00  -2.77941711e-02\n",
      "  -6.45370333e-02   2.49413233e-02  -0.00000000e+00  -4.98850153e-02\n",
      "  -1.53049786e-02   4.53743222e-03  -3.63758295e-02   0.00000000e+00\n",
      "  -0.00000000e+00  -4.29920134e-04  -7.46869952e-02  -8.74772039e-02\n",
      "  -1.42317757e-02  -8.95252016e-02   9.09531195e-02   5.73982133e-02\n",
      "   2.96863177e-02   0.00000000e+00   0.00000000e+00   3.63154790e-02\n",
      "  -2.80725150e-02   0.00000000e+00  -0.00000000e+00   2.82828705e-02\n",
      "   6.02336337e-02   2.83379379e-02  -6.91895338e-02  -1.54398274e-03\n",
      "   1.14422216e-01   1.00707021e-02   3.94777417e-02  -9.81493207e-03\n",
      "   0.00000000e+00   7.28620942e-02   2.99201129e-03  -0.00000000e+00\n",
      "  -0.00000000e+00  -1.08905894e-03  -1.47867233e-01  -1.39600025e-02\n",
      "   7.88021158e-03  -9.46792432e-02  -3.43510122e-02  -0.00000000e+00\n",
      "   4.51160867e-02   5.92085758e-02  -0.00000000e+00  -1.98782480e-02\n",
      "  -4.67212533e-02  -3.99823518e-03  -0.00000000e+00   1.08116603e-01\n",
      "  -4.65912348e-02  -1.66696336e-02   9.66065943e-02  -8.15208246e-02\n",
      "   4.14692506e-02  -3.80336294e-02   1.54251041e-01  -5.74836374e-02\n",
      "  -9.87871828e-02   2.29326061e-02   3.34352861e-04  -0.00000000e+00\n",
      "   3.51100205e-02  -0.00000000e+00  -0.00000000e+00   3.56576588e-02\n",
      "   1.76127570e-03  -0.00000000e+00  -4.16604455e-04  -1.66755657e-02\n",
      "  -4.12078481e-03  -1.87771926e-04   2.18875489e-02   1.67345670e-02\n",
      "  -0.00000000e+00   1.20521348e-03  -1.55984768e-02   8.86742477e-02\n",
      "   1.52350631e-02   4.23823822e-02  -0.00000000e+00   4.66888543e-02\n",
      "  -0.00000000e+00  -6.95815824e-02   0.00000000e+00   0.00000000e+00\n",
      "   1.27786235e-02   9.21699908e-03  -3.40283574e-04   0.00000000e+00\n",
      "   7.40210489e-03   1.50313576e-02   6.15036524e-03  -5.51578019e-03\n",
      "  -5.62329547e-02   1.11027040e-01   4.85601483e-02   1.02760421e-01\n",
      "   0.00000000e+00   6.15283512e-02   2.09673381e-02  -9.26733798e-02\n",
      "   4.40733546e-03   2.55879975e-03  -1.23523318e-01  -3.47166978e-03\n",
      "  -3.44153652e-02   6.46620113e-05  -0.00000000e+00   5.08265461e-02]\n",
      "Residual sum of squares: 9.35\n",
      "Variance score (train): 1.00\n",
      "Variance score (test): 0.91\n"
     ]
    }
   ],
   "source": [
    "\n",
    "regr = Lasso(alpha=0.0001)\n",
    "\n",
    "regr.fit(X_train, y_train)\n",
    "\n",
    "# The coefficients\n",
    "print('Coefficients: \\n', regr.coef_)\n",
    "# The mean square error\n",
    "print(\"Residual sum of squares: %.2f\"\n",
    "      % np.mean((regr.predict(X_test) - y_test) ** 2))\n",
    "# Explained variance score: 1 is perfect prediction\n",
    "print('Variance score (train): %.2f' % regr.score(X_train, y_train))\n",
    "print('Variance score (test): %.2f' % regr.score(X_test, y_test))"
   ]
  },
  {
   "cell_type": "code",
   "execution_count": 12,
   "metadata": {},
   "outputs": [
    {
     "name": "stderr",
     "output_type": "stream",
     "text": [
      "C:\\Users\\Dennis\\Anaconda3\\lib\\site-packages\\sklearn\\linear_model\\coordinate_descent.py:491: ConvergenceWarning: Objective did not converge. You might want to increase the number of iterations. Fitting data with very small alpha may cause precision problems.\n",
      "  ConvergenceWarning)\n"
     ]
    },
    {
     "data": {
      "text/plain": [
       "1000"
      ]
     },
     "execution_count": 12,
     "metadata": {},
     "output_type": "execute_result"
    }
   ],
   "source": [
    "alphas = np.logspace(-8,-3,1000)\n",
    "\n",
    "scores = []\n",
    "\n",
    "for alpha in alphas:\n",
    "    regr = Lasso(alpha=alpha)\n",
    "\n",
    "    # Train the model using the training sets\n",
    "    regr.fit(X_train, y_train)\n",
    "    scores.append(regr.score(X_test,y_test))\n",
    "    \n",
    "len(scores)"
   ]
  },
  {
   "cell_type": "code",
   "execution_count": 13,
   "metadata": {},
   "outputs": [
    {
     "data": {
      "image/png": "[encoded data removed]",
      "text/plain": [
       "<matplotlib.figure.Figure at 0xcbcb1d0>"
      ]
     },
     "metadata": {},
     "output_type": "display_data"
    }
   ],
   "source": [
    "\n",
    "plt.plot(alphas, scores)\n",
    "plt.xlabel('Alpha')\n",
    "plt.ylabel('Score')\n",
    "plt.show()"
   ]
  },
  {
   "cell_type": "code",
   "execution_count": 16,
   "metadata": {},
   "outputs": [
    {
     "name": "stdout",
     "output_type": "stream",
     "text": [
      "The regularization strength is 0.0008220815755240541 with R^2 = 0.9999854710617048\n"
     ]
    }
   ],
   "source": [
    "alpha_1 = (alphas[np.argmax(scores)])\n",
    "\n",
    "print ('The regularization strength is {} with R^2 = {}'.format(alpha_1, scores[np.argmax(scores)]))"
   ]
  },
  {
   "cell_type": "markdown",
   "metadata": {},
   "source": [
    "d) Plot the training perforamnce versus the testing performance, and observe whree the test performance is\n",
    "maximized. I've written an outline of the code you need."
   ]
  },
  {
   "cell_type": "code",
   "execution_count": 17,
   "metadata": {},
   "outputs": [
    {
     "name": "stderr",
     "output_type": "stream",
     "text": [
      "C:\\Users\\Dennis\\Anaconda3\\lib\\site-packages\\sklearn\\linear_model\\coordinate_descent.py:491: ConvergenceWarning: Objective did not converge. You might want to increase the number of iterations. Fitting data with very small alpha may cause precision problems.\n",
      "  ConvergenceWarning)\n"
     ]
    }
   ],
   "source": [
    "# Fill these in\n",
    "alphas = np.logspace(-8,-3,1000)\n",
    "train_errors=[]\n",
    "test_errors=[]\n",
    "alpha_optim = 0\n",
    "\n",
    "for alpha in alphas:\n",
    "    regr = Lasso (alpha=alpha)    \n",
    "    regr.fit(X_train, y_train)\n",
    "    train_errors.append(regr.score(X_train, y_train))\n",
    "    test_errors.append(regr.score(X_test, y_test))\n",
    "\n"
   ]
  },
  {
   "cell_type": "code",
   "execution_count": 25,
   "metadata": {},
   "outputs": [
    {
     "data": {
      "image/png": "[encoded data removed]",
      "text/plain": [
       "<matplotlib.figure.Figure at 0xd19c470>"
      ]
     },
     "metadata": {},
     "output_type": "display_data"
    },
    {
     "name": "stdout",
     "output_type": "stream",
     "text": [
      "Optimal alpha = 0.0008221 with performance of 0.9999855\n"
     ]
    }
   ],
   "source": [
    "%matplotlib inline\n",
    "plt.subplot(2, 1, 1)\n",
    "\n",
    "i_alpha = np.argmax(test_errors)\n",
    "alpha_optim = alphas [i_alpha]\n",
    "\n",
    "plt.semilogx(alphas, train_errors, label='Train')\n",
    "plt.semilogx(alphas, test_errors, label='Test')\n",
    "plt.vlines(alpha_optim, plt.ylim()[0], np.max(test_errors), color='k',\n",
    "           linewidth=3, label='Optimum on test')\n",
    "plt.legend(loc='lower left')\n",
    "plt.ylim([0.8, 1.05])\n",
    "plt.xlabel('Regularization parameter')\n",
    "plt.ylabel('Performance')               \n",
    "\n",
    "plt.show()\n",
    "\n",
    "print('Optimal alpha = {:.7f} with performance of {:.7f}'.format(alpha_optim, test_errors[i_alpha]))"
   ]
  },
  {
   "cell_type": "markdown",
   "metadata": {},
   "source": [
    "e) Plot the top coefficients based on this optimal paramter. Why do you think so many are zero? "
   ]
  },
  {
   "cell_type": "code",
   "execution_count": 46,
   "metadata": {},
   "outputs": [
    {
     "data": {
      "text/plain": [
       "Text(0,0.5,'coefficients')"
      ]
     },
     "execution_count": 46,
     "metadata": {},
     "output_type": "execute_result"
    },
    {
     "data": {
      "image/png": "[encoded data removed]",
      "text/plain": [
       "<matplotlib.figure.Figure at 0xf66a6a0>"
      ]
     },
     "metadata": {},
     "output_type": "display_data"
    }
   ],
   "source": [
    "regr = Lasso(alpha=alpha_optim)\n",
    "\n",
    "regr.fit(X_train, y_train)\n",
    "\n",
    "plt.plot(regr.coef_)\n",
    "plt.xlabel('features')\n",
    "plt.ylabel('coefficients')"
   ]
  },
  {
   "cell_type": "code",
   "execution_count": 34,
   "metadata": {},
   "outputs": [
    {
     "name": "stdout",
     "output_type": "stream",
     "text": [
      "There seeems to be many 0s because the Lasso function sets coefficients of irrelevant features to 0, and since the number of features exceed the number of data points, it is likely that a large portion of features are excluded.\n"
     ]
    }
   ],
   "source": [
    "print('There seeems to be many 0s because the Lasso function sets coefficients of irrelevant features to 0, and since the number of features exceed the number of data points, it is likely that a large portion of features are excluded.')"
   ]
  },
  {
   "cell_type": "code",
   "execution_count": 47,
   "metadata": {},
   "outputs": [
    {
     "data": {
      "text/plain": [
       "<matplotlib.legend.Legend at 0xf819f28>"
      ]
     },
     "execution_count": 47,
     "metadata": {},
     "output_type": "execute_result"
    },
    {
     "data": {
      "image/png": "[encoded data removed]",
      "text/plain": [
       "<matplotlib.figure.Figure at 0xf7e1358>"
      ]
     },
     "metadata": {},
     "output_type": "display_data"
    }
   ],
   "source": [
    "coef_df = pd.DataFrame(data = (regr.coef_), columns = ['coef'])\n",
    "coef_df ['abs coef'] = pd.DataFrame(data = np.absolute(regr.coef_))\n",
    "coef_df ['feature']= coef_df ['coef'].index.tolist()\n",
    "coef_df ['rank']= coef_df ['abs coef'].rank(ascending=0)\n",
    "plt.plot(coef_df ['coef'])\n",
    "plt.plot(coef_df['abs coef'])\n",
    "plt.xlabel('features')\n",
    "plt.ylabel('coefficients')\n",
    "plt.legend()"
   ]
  },
  {
   "cell_type": "code",
   "execution_count": 30,
   "metadata": {},
   "outputs": [
    {
     "data": {
      "text/html": [
       "<div>\n",
       "<style>\n",
       "    .dataframe thead tr:only-child th {\n",
       "        text-align: right;\n",
       "    }\n",
       "\n",
       "    .dataframe thead th {\n",
       "        text-align: left;\n",
       "    }\n",
       "\n",
       "    .dataframe tbody tr th {\n",
       "        vertical-align: top;\n",
       "    }\n",
       "</style>\n",
       "<table border=\"1\" class=\"dataframe\">\n",
       "  <thead>\n",
       "    <tr style=\"text-align: right;\">\n",
       "      <th></th>\n",
       "      <th>coef</th>\n",
       "      <th>abs coef</th>\n",
       "      <th>feature</th>\n",
       "      <th>rank</th>\n",
       "    </tr>\n",
       "  </thead>\n",
       "  <tbody>\n",
       "    <tr>\n",
       "      <th>0</th>\n",
       "      <td>1.791295</td>\n",
       "      <td>1.791295</td>\n",
       "      <td>0</td>\n",
       "      <td>7.0</td>\n",
       "    </tr>\n",
       "    <tr>\n",
       "      <th>1</th>\n",
       "      <td>0.424910</td>\n",
       "      <td>0.424910</td>\n",
       "      <td>1</td>\n",
       "      <td>33.0</td>\n",
       "    </tr>\n",
       "    <tr>\n",
       "      <th>2</th>\n",
       "      <td>1.024925</td>\n",
       "      <td>1.024925</td>\n",
       "      <td>2</td>\n",
       "      <td>20.0</td>\n",
       "    </tr>\n",
       "    <tr>\n",
       "      <th>3</th>\n",
       "      <td>2.159696</td>\n",
       "      <td>2.159696</td>\n",
       "      <td>3</td>\n",
       "      <td>3.0</td>\n",
       "    </tr>\n",
       "    <tr>\n",
       "      <th>4</th>\n",
       "      <td>1.879359</td>\n",
       "      <td>1.879359</td>\n",
       "      <td>4</td>\n",
       "      <td>6.0</td>\n",
       "    </tr>\n",
       "  </tbody>\n",
       "</table>\n",
       "</div>"
      ],
      "text/plain": [
       "       coef  abs coef  feature  rank\n",
       "0  1.791295  1.791295        0   7.0\n",
       "1  0.424910  0.424910        1  33.0\n",
       "2  1.024925  1.024925        2  20.0\n",
       "3  2.159696  2.159696        3   3.0\n",
       "4  1.879359  1.879359        4   6.0"
      ]
     },
     "execution_count": 30,
     "metadata": {},
     "output_type": "execute_result"
    }
   ],
   "source": [
    "coef_df.head()"
   ]
  },
  {
   "cell_type": "code",
   "execution_count": 48,
   "metadata": {},
   "outputs": [
    {
     "data": {
      "text/plain": [
       "Text(0,0.5,'absolute value of coefficients')"
      ]
     },
     "execution_count": 48,
     "metadata": {},
     "output_type": "execute_result"
    },
    {
     "data": {
      "image/png": "[encoded data removed]",
      "text/plain": [
       "<matplotlib.figure.Figure at 0xf6d06d8>"
      ]
     },
     "metadata": {},
     "output_type": "display_data"
    }
   ],
   "source": [
    "plt.bar(coef_df['rank'],coef_df['abs coef'])\n",
    "plt.xlabel('rank of features')\n",
    "plt.ylabel('absolute value of coefficients')"
   ]
  },
  {
   "cell_type": "code",
   "execution_count": 32,
   "metadata": {},
   "outputs": [
    {
     "data": {
      "text/html": [
       "<div>\n",
       "<style>\n",
       "    .dataframe thead tr:only-child th {\n",
       "        text-align: right;\n",
       "    }\n",
       "\n",
       "    .dataframe thead th {\n",
       "        text-align: left;\n",
       "    }\n",
       "\n",
       "    .dataframe tbody tr th {\n",
       "        vertical-align: top;\n",
       "    }\n",
       "</style>\n",
       "<table border=\"1\" class=\"dataframe\">\n",
       "  <thead>\n",
       "    <tr style=\"text-align: right;\">\n",
       "      <th></th>\n",
       "      <th>coef</th>\n",
       "      <th>abs coef</th>\n",
       "      <th>feature</th>\n",
       "      <th>rank</th>\n",
       "    </tr>\n",
       "  </thead>\n",
       "  <tbody>\n",
       "    <tr>\n",
       "      <th>20</th>\n",
       "      <td>-2.597804</td>\n",
       "      <td>2.597804</td>\n",
       "      <td>20</td>\n",
       "      <td>1.0</td>\n",
       "    </tr>\n",
       "    <tr>\n",
       "      <th>24</th>\n",
       "      <td>2.209190</td>\n",
       "      <td>2.209190</td>\n",
       "      <td>24</td>\n",
       "      <td>2.0</td>\n",
       "    </tr>\n",
       "    <tr>\n",
       "      <th>3</th>\n",
       "      <td>2.159696</td>\n",
       "      <td>2.159696</td>\n",
       "      <td>3</td>\n",
       "      <td>3.0</td>\n",
       "    </tr>\n",
       "    <tr>\n",
       "      <th>43</th>\n",
       "      <td>1.977892</td>\n",
       "      <td>1.977892</td>\n",
       "      <td>43</td>\n",
       "      <td>4.0</td>\n",
       "    </tr>\n",
       "    <tr>\n",
       "      <th>33</th>\n",
       "      <td>-1.918427</td>\n",
       "      <td>1.918427</td>\n",
       "      <td>33</td>\n",
       "      <td>5.0</td>\n",
       "    </tr>\n",
       "  </tbody>\n",
       "</table>\n",
       "</div>"
      ],
      "text/plain": [
       "        coef  abs coef  feature  rank\n",
       "20 -2.597804  2.597804       20   1.0\n",
       "24  2.209190  2.209190       24   2.0\n",
       "3   2.159696  2.159696        3   3.0\n",
       "43  1.977892  1.977892       43   4.0\n",
       "33 -1.918427  1.918427       33   5.0"
      ]
     },
     "execution_count": 32,
     "metadata": {},
     "output_type": "execute_result"
    }
   ],
   "source": [
    "top_features = (coef_df.sort_values(by = ['abs coef'], ascending =0))[:50]\n",
    "\n",
    "top_features.head()"
   ]
  },
  {
   "cell_type": "code",
   "execution_count": 49,
   "metadata": {},
   "outputs": [
    {
     "data": {
      "text/plain": [
       "Text(0,0.5,'coefficients')"
      ]
     },
     "execution_count": 49,
     "metadata": {},
     "output_type": "execute_result"
    },
    {
     "data": {
      "image/png": "[encoded data removed]",
      "text/plain": [
       "<matplotlib.figure.Figure at 0xf8b0f28>"
      ]
     },
     "metadata": {},
     "output_type": "display_data"
    }
   ],
   "source": [
    "plt.bar(top_features['rank'], top_features['coef'])\n",
    "plt.xlabel('rank of top features')\n",
    "plt.ylabel('coefficients')"
   ]
  },
  {
   "cell_type": "markdown",
   "metadata": {},
   "source": [
    "f) Compute the $R^2$ with the optimal coefficient found above on 5 folds using cross_val_score and plot the\n",
    "results. Does the model work well on all random subsets?"
   ]
  },
  {
   "cell_type": "code",
   "execution_count": 39,
   "metadata": {},
   "outputs": [
    {
     "name": "stderr",
     "output_type": "stream",
     "text": [
      "C:\\Users\\Dennis\\Anaconda3\\lib\\site-packages\\sklearn\\linear_model\\coordinate_descent.py:491: ConvergenceWarning: Objective did not converge. You might want to increase the number of iterations. Fitting data with very small alpha may cause precision problems.\n",
      "  ConvergenceWarning)\n"
     ]
    },
    {
     "data": {
      "image/png": "[encoded data removed]",
      "text/plain": [
       "<matplotlib.figure.Figure at 0xf66a4e0>"
      ]
     },
     "metadata": {},
     "output_type": "display_data"
    }
   ],
   "source": [
    "from sklearn.model_selection import cross_val_score\n",
    "\n",
    "regr = Lasso(alpha=alpha_optim)\n",
    "val_scores = cross_val_score(regr, X_scaled, y, cv=5)\n",
    "plt.ylim([-1,1])\n",
    "plt.xlabel('lambda')\n",
    "plt.ylabel('R^2')\n",
    "plt.title('Performance on 5 folds with lambda=' + str(alpha_optim))\n",
    "plt.bar(range(1,6),val_scores)\n",
    "plt.show()"
   ]
  },
  {
   "cell_type": "code",
   "execution_count": 40,
   "metadata": {},
   "outputs": [
    {
     "name": "stdout",
     "output_type": "stream",
     "text": [
      "The model with the optimal alpha determined works well with random subsets over the 5 folds of cross validation, scoring close to 1 every instance.\n"
     ]
    }
   ],
   "source": [
    "print('The model with the optimal alpha determined works well with random subsets over the 5 folds of cross validation, scoring close to 1 every instance.')"
   ]
  },
  {
   "cell_type": "markdown",
   "metadata": {},
   "source": [
    "f) Repeat e) but using cross validation. Use error bars on the features which are the standard deviation of the \n",
    "coefficiens obtained above. For this problem I\"ll walk you through the code. You just need to apply your optimal\n",
    "$\\alpha$ found above. "
   ]
  },
  {
   "cell_type": "code",
   "execution_count": 43,
   "metadata": {},
   "outputs": [
    {
     "name": "stderr",
     "output_type": "stream",
     "text": [
      "C:\\Users\\Dennis\\Anaconda3\\lib\\site-packages\\sklearn\\linear_model\\coordinate_descent.py:491: ConvergenceWarning: Objective did not converge. You might want to increase the number of iterations. Fitting data with very small alpha may cause precision problems.\n",
      "  ConvergenceWarning)\n"
     ]
    }
   ],
   "source": [
    "from sklearn.cross_validation import KFold\n",
    "from sklearn import preprocessing\n",
    "def run_cv_coeffs(X,y,clf_class,**kwargs):\n",
    "    # Construct a kfolds object\n",
    "    kf = KFold(len(y),n_folds=5,shuffle=True)\n",
    "    y_pred = y.copy()\n",
    "    coeffs=[]\n",
    "    # Iterate through folds\n",
    "    for train_index, test_index in kf:\n",
    "        \n",
    "        X_train, X_test = X[train_index], X[test_index]\n",
    "        y_train = y[train_index]\n",
    "        # Initialize a classifier with key word arguments\n",
    "        clf = clf_class(**kwargs)\n",
    "        clf.fit(X_train,y_train)\n",
    "        y_pred[test_index] = clf.predict(X_test)\n",
    "        coeffs.append(clf.coef_)\n",
    "    return coeffs\n",
    "\n",
    "\n",
    "alpha_best = alpha_optim\n",
    "scaler = preprocessing.StandardScaler()\n",
    "X_scaled = X.as_matrix().astype(np.float)\n",
    "X_scaled = scaler.fit_transform(X)\n",
    "\n",
    "coeffs=run_cv_coeffs(X_scaled,np.array(y),Lasso,alpha=alpha_best)"
   ]
  },
  {
   "cell_type": "code",
   "execution_count": 44,
   "metadata": {
    "collapsed": true
   },
   "outputs": [],
   "source": [
    "def get_coeffs(coeffs):\n",
    "    coeffs_avgd = [(coeffs[0][i] + coeffs[1][i] + coeffs[2][i] + coeffs[3][i] + coeffs[4][i])/5 for i in range(0,len(X.columns))]\n",
    "    coeffs_std = [np.std([coeffs[0][i],coeffs[1][i],coeffs[2][i],coeffs[3][i],coeffs[4][i]]) for i in range(0,len(X.columns))]\n",
    "    return coeffs_avgd, coeffs_std\n",
    "coeffs_avg,coeffs_std=get_coeffs(coeffs)"
   ]
  },
  {
   "cell_type": "code",
   "execution_count": 45,
   "metadata": {},
   "outputs": [
    {
     "data": {
      "text/plain": [
       "<matplotlib.axes._subplots.AxesSubplot at 0xf5fa7f0>"
      ]
     },
     "execution_count": 45,
     "metadata": {},
     "output_type": "execute_result"
    },
    {
     "data": {
      "text/plain": [
       "<matplotlib.figure.Figure at 0xf6de390>"
      ]
     },
     "metadata": {},
     "output_type": "display_data"
    },
    {
     "data": {
      "image/png": "[encoded data removed]",
      "text/plain": [
       "<matplotlib.figure.Figure at 0xf62e4e0>"
      ]
     },
     "metadata": {},
     "output_type": "display_data"
    }
   ],
   "source": [
    "dfCoeffs = pd.DataFrame({'type':X.columns.values, 'coef':coeffs_avg, 'std':coeffs_std})\n",
    "dfCoeffs = dfCoeffs[(dfCoeffs['coef']>1) |(dfCoeffs['coef']<-1) ]\n",
    "plt.figure(figsize=(15,15))\n",
    "dfCoeffs_sorted = dfCoeffs.sort_values(['coef'])[::-1]\n",
    "yerr_vals = dfCoeffs_sorted['std'].values\n",
    "dfCoeffs_sorted.plot(x='type',y='coef',kind='bar',yerr=yerr_vals,figsize=(15,15))"
   ]
  },
  {
   "cell_type": "code",
   "execution_count": null,
   "metadata": {
    "collapsed": true
   },
   "outputs": [],
   "source": []
  }
 ],
 "metadata": {
  "anaconda-cloud": {},
  "kernelspec": {
   "display_name": "Python 3",
   "language": "python",
   "name": "python3"
  },
  "language_info": {
   "codemirror_mode": {
    "name": "ipython",
    "version": 3
   },
   "file_extension": ".py",
   "mimetype": "text/x-python",
   "name": "python",
   "nbconvert_exporter": "python",
   "pygments_lexer": "ipython3",
   "version": "3.6.3"
  }
 },
 "nbformat": 4,
 "nbformat_minor": 1
}
